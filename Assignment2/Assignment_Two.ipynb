{
 "cells": [
  {
   "cell_type": "code",
   "execution_count": 5,
   "metadata": {
    "colab": {
     "base_uri": "https://localhost:8080/"
    },
    "id": "TR_Jdew-XcmE",
    "outputId": "3b5a4318-7474-4002-94e1-d39982a964e0"
   },
   "outputs": [
    {
     "name": "stdout",
     "output_type": "stream",
     "text": [
      "Mounted at /content/drive/\n"
     ]
    }
   ],
   "source": [
    "from google.colab import drive \n",
    "drive.mount(\"/content/drive/\")"
   ]
  },
  {
   "cell_type": "code",
   "execution_count": 6,
   "metadata": {
    "id": "6Pl8Kj-2ceeE"
   },
   "outputs": [],
   "source": [
    "import os \n",
    "from os import listdir\n",
    "import torch \n",
    "#from torch.utilis import dataset\n",
    "import torchvision \n",
    "from torchvision.models.detection.faster_rcnn import FastRCNNPredictor\n",
    "from torchvision.io import read_image\n",
    "from torch.utils.data import Dataset  \n",
    "import json\n",
    "from torch.utils.data import DataLoader\n",
    "from torch.nn import Module"
   ]
  },
  {
   "cell_type": "code",
   "execution_count": 7,
   "metadata": {
    "id": "cttJ6YpJtaxN"
   },
   "outputs": [],
   "source": [
    "with open(\"/content/drive/MyDrive/metadata.json\") as jsonfile:\n",
    "        lables=json.load(jsonfile)"
   ]
  },
  {
   "cell_type": "code",
   "execution_count": 8,
   "metadata": {
    "id": "3s5AX9lnHfX2"
   },
   "outputs": [],
   "source": [
    "import numpy as np\n",
    "from scipy.spatial import ConvexHull\n",
    "def minimum_bounding_rectangle(points):\n",
    "    \"\"\"\n",
    "    Find the smallest bounding rectangle for a set of points.\n",
    "    Returns a set of points representing the corners of the bounding box.\n",
    "\n",
    "    :param points: an nx2 matrix of coordinates\n",
    "    :rval: an nx2 matrix of coordinates\n",
    "    \"\"\"\n",
    "    from scipy.ndimage.interpolation import rotate\n",
    "    pi2 = np.pi/2.\n",
    "\n",
    "    # get the convex hull for the points\n",
    "    hull_points = points[ConvexHull(points).vertices]\n",
    "\n",
    "    # calculate edge angles\n",
    "    edges = np.zeros((len(hull_points)-1, 2))\n",
    "    edges = hull_points[1:] - hull_points[:-1]\n",
    "\n",
    "    angles = np.zeros((len(edges)))\n",
    "    angles = np.arctan2(edges[:, 1], edges[:, 0])\n",
    "\n",
    "    angles = np.abs(np.mod(angles, pi2))\n",
    "    angles = np.unique(angles)\n",
    "\n",
    "    # find rotation matrices\n",
    "    # XXX both work\n",
    "    rotations = np.vstack([\n",
    "        np.cos(angles),\n",
    "        np.cos(angles-pi2),\n",
    "        np.cos(angles+pi2),\n",
    "        np.cos(angles)]).T\n",
    "#     rotations = np.vstack([\n",
    "#         np.cos(angles),\n",
    "#         -np.sin(angles),\n",
    "#         np.sin(angles),\n",
    "#         np.cos(angles)]).T\n",
    "    rotations = rotations.reshape((-1, 2, 2))\n",
    "\n",
    "    # apply rotations to the hull\n",
    "    rot_points = np.dot(rotations, hull_points.T)\n",
    "\n",
    "    # find the bounding points\n",
    "    min_x = np.nanmin(rot_points[:, 0], axis=1)\n",
    "    max_x = np.nanmax(rot_points[:, 0], axis=1)\n",
    "    min_y = np.nanmin(rot_points[:, 1], axis=1)\n",
    "    max_y = np.nanmax(rot_points[:, 1], axis=1)\n",
    "\n",
    "    # find the box with the best area\n",
    "    areas = (max_x - min_x) * (max_y - min_y)\n",
    "    best_idx = np.argmin(areas)\n",
    "\n",
    "    # return the best box\n",
    "    x1 = max_x[best_idx]\n",
    "    x2 = min_x[best_idx]\n",
    "    y1 = max_y[best_idx]\n",
    "    y2 = min_y[best_idx]\n",
    "    rval=np.zeros((4,2))\n",
    "    r = rotations[best_idx]\n",
    "\n",
    "    rval[0] = np.dot([x1, y2], r)\n",
    "    rval[1] = np.dot([x2, y2], r)\n",
    "    rval[2] = np.dot([x2, y1], r)\n",
    "    rval[3] = np.dot([x1, y1], r)\n",
    "    rr=np.zeros((1,4))\n",
    "    rr[0]=np.array(np.min(rval,0).tolist()+np.max(rval,0).tolist())\n",
    "  \n",
    "    return rr"
   ]
  },
  {
   "cell_type": "code",
   "execution_count": 9,
   "metadata": {
    "id": "cJ7JdQSChVUm"
   },
   "outputs": [],
   "source": [
    "device = torch.device('cuda') if torch.cuda.is_available() else torch.device('cpu')\n",
    "class data_loader(Dataset):\n",
    "    def __init__(self,dir_img,lables_file,Transformation=True):\n",
    "       self.images=[i for i in listdir(dir_img)if os.path.isfile(os.path.join(dir_img,i))]\n",
    "       self.labels=[lables[i] for i in self.images]\n",
    "       self.dir=dir_img\n",
    "       self.transformation=Transformation\n",
    "    def __len__(self):\n",
    "        return len(self.images)\n",
    "    def __getitem__(self,idx):\n",
    "      image=read_image(os.path.join(self.dir,self.images[idx]))\n",
    "      label=[self.labels[idx]['bounds_x_y']]\n",
    "    \n",
    "      list_label=np.array([list(i.values()) for i in label[0]])\n",
    "\n",
    "      rect_label=minimum_bounding_rectangle(list_label)\n",
    "      \n",
    "      if self.transformation:\n",
    "                 image=image/225\n",
    "      target={}\n",
    "      target[\"boxes\"]=torch.tensor(rect_label,dtype=torch.float64).to(device)\n",
    "      target[\"labels\"]=torch.tensor([1]).to(device)\n",
    "      image=image.to(device)\n",
    "      return (image,target)"
   ]
  },
  {
   "cell_type": "code",
   "execution_count": 10,
   "metadata": {
    "id": "rNiBF7IDbbUd"
   },
   "outputs": [],
   "source": [
    "def collect_fn(data):\n",
    "      D=[i[0] for i in data]\n",
    "      target=[i[1] for i in data]\n",
    "    \n",
    "      return [D,target]\n",
    "\n",
    "     "
   ]
  },
  {
   "cell_type": "code",
   "execution_count": 11,
   "metadata": {
    "id": "RV7iv5obGemM"
   },
   "outputs": [],
   "source": [
    "import gc\n",
    "\n",
    "gc.collect()\n",
    "\n",
    "torch.cuda.empty_cache()\n",
    "\n",
    "torch.cuda.empty_cache()"
   ]
  },
  {
   "cell_type": "code",
   "execution_count": 12,
   "metadata": {
    "id": "a2cUULR3xdCC"
   },
   "outputs": [],
   "source": [
    "train_data=data_loader(\"/content/drive/MyDrive/AAA/images\",lables)\n",
    "#train_data_loader=DataLoader(train_data, batch_size=60, shuffle=True,collate_fn=collect_fn)\n",
    "train_size = int(0.8 * len(train_data))\n",
    "test_size = len(train_data) - train_size\n",
    "train_dataset, test_dataset = torch.utils.data.random_split(train_data, [train_size, test_size])\n",
    "train_dataset=DataLoader(train_dataset,batch_size=10, shuffle=True,collate_fn=collect_fn)\n",
    "test_dataset=DataLoader(test_dataset,batch_size=10, shuffle=True,collate_fn=collect_fn)"
   ]
  },
  {
   "cell_type": "code",
   "execution_count": 9,
   "metadata": {
    "colab": {
     "base_uri": "https://localhost:8080/"
    },
    "id": "O84os2HFVNiw",
    "outputId": "36d0b83e-b240-4546-aa71-fc8661844261"
   },
   "outputs": [
    {
     "name": "stdout",
     "output_type": "stream",
     "text": [
      "torch.Size([3, 512, 512])\n"
     ]
    }
   ],
   "source": [
    "for data in next(iter(train_dataset)):\n",
    "              print(data[0].shape)\n",
    "              break "
   ]
  },
  {
   "cell_type": "code",
   "execution_count": 13,
   "metadata": {
    "id": "MV5hlX1t7Zuo"
   },
   "outputs": [],
   "source": [
    "def create_model(num_classes):\n",
    "    \n",
    "    # load Faster RCNN pre-trained model\n",
    "    model =torchvision.models.detection.fasterrcnn_mobilenet_v3_large_320_fpn(pretrained=False,num_classes=2,trainable_backbone_layers=0)\n",
    "    \n",
    "    # get the number of input features \n",
    "    #in_features = model.roi_heads.box_predictor.cls_score.in_features\n",
    "    # define a new head for the detector with required number of classes\n",
    "    #model.roi_heads.box_predictor = FastRCNNPredictor(in_features, num_classes) \n",
    "    return model"
   ]
  },
  {
   "cell_type": "code",
   "execution_count": 14,
   "metadata": {
    "id": "DbL6K5C7rMPR"
   },
   "outputs": [],
   "source": [
    "from torch import nn"
   ]
  },
  {
   "cell_type": "code",
   "execution_count": 12,
   "metadata": {
    "colab": {
     "base_uri": "https://localhost:8080/",
     "height": 134
    },
    "id": "ozxkUM0lqqsE",
    "outputId": "f4b0ebaa-ee4b-47c1-ffeb-a27960edad22"
   },
   "outputs": [
    {
     "ename": "SyntaxError",
     "evalue": "ignored",
     "output_type": "error",
     "traceback": [
      "\u001b[0;36m  File \u001b[0;32m\"<ipython-input-12-7dd415deb4b8>\"\u001b[0;36m, line \u001b[0;32m3\u001b[0m\n\u001b[0;31m    super(detector.self).__init__():\u001b[0m\n\u001b[0m                                    ^\u001b[0m\n\u001b[0;31mSyntaxError\u001b[0m\u001b[0;31m:\u001b[0m invalid syntax\n"
     ]
    }
   ],
   "source": [
    "class detector(nn.module):\n",
    "      def __init__(self,chanel_ine, chanel_out_feature_backbone, ):\n",
    "          super(detector.self).__init__():\n",
    "          self.depth=feature_channels \n",
    "          \n"
   ]
  },
  {
   "cell_type": "code",
   "execution_count": 15,
   "metadata": {
    "colab": {
     "base_uri": "https://localhost:8080/",
     "height": 67,
     "referenced_widgets": [
      "da31074c285f4bac9f14642c89f09324",
      "e5f64a28ede845bbbb22dfd0137a8b38",
      "55955b0b0aa64773868512e5190c83e9",
      "0947082bd32746cfb9c66378e577a00c",
      "2091733103ff428d9d2aeca98c545dea",
      "bbde3b9eaaeb4e7cb93bc49a91c29577",
      "37cd3c32a3874fe2815b2426111d155e",
      "35dd5c309c5b4b6ab6391db7ef75ee43",
      "6269d8cb1b5a4f52ba62a7a566591dbe",
      "6ee404ceea4d4772a2f3144c82ef5f87",
      "b03a3590f1294f32b1f120b6cb0643f5"
     ]
    },
    "id": "T8F6439rFlva",
    "outputId": "bc2077c3-ecfb-47ee-f56b-8148de3fdb3d"
   },
   "outputs": [
    {
     "name": "stderr",
     "output_type": "stream",
     "text": [
      "Downloading: \"https://download.pytorch.org/models/mobilenet_v3_large-8738ca79.pth\" to /root/.cache/torch/hub/checkpoints/mobilenet_v3_large-8738ca79.pth\n"
     ]
    },
    {
     "data": {
      "application/vnd.jupyter.widget-view+json": {
       "model_id": "da31074c285f4bac9f14642c89f09324",
       "version_major": 2,
       "version_minor": 0
      },
      "text/plain": [
       "  0%|          | 0.00/21.1M [00:00<?, ?B/s]"
      ]
     },
     "metadata": {},
     "output_type": "display_data"
    }
   ],
   "source": [
    "model =create_model(2)\n",
    "model.to(device)\n",
    "#img, target=next(iter(train_data_loader))\n",
    "#output=model(img,target)\n",
    "creterion=torch.nn.MSELoss()"
   ]
  },
  {
   "cell_type": "code",
   "execution_count": null,
   "metadata": {
    "id": "zHY8lB27wq1-"
   },
   "outputs": [],
   "source": [
    " params = [p for p in model.parameters() if p.requires_grad]\n",
    " optimizer = torch.optim.SGD(params, lr=0.01,momentum=0.9, weight_decay=0.0005)\n",
    " num_epochs = 10\n",
    " for epoch in range(num_epochs):\n",
    " \n",
    "       model.train()\n",
    "  \n",
    "       epoch_loss = 0\n",
    "       for data,target in iter(train_dataset):\n",
    "  \n",
    "          print(\"a\")\n",
    "        \n",
    "          output=model(data,target)\n",
    "     \n",
    " \n",
    "          total_loss=sum(list(output.values()))\n",
    "          optimizer.zero_grad()\n",
    "          total_loss.backward()\n",
    "\n",
    "          optimizer.step() \n",
    "     "
   ]
  },
  {
   "cell_type": "code",
   "execution_count": null,
   "metadata": {
    "id": "ux-CiSbKHbe1"
   },
   "outputs": [],
   "source": [
    "model.eval()\n",
    "eval_loss=0\n",
    "with torch.no_grad():\n",
    "  for data,target in iter(test_dataset):\n",
    "          predictions = model(data)\n",
    "          for i in range(len(predictions)):\n",
    "        \n",
    "                a=creterion(predictions[i][\"boxes\"],target[i][\"boxes\"])\n",
    "                if a>0 or a<0:\n",
    "                   eval_loss+=a\n",
    "print(\"{}_evaluation_loss_{}\".format(epoch,eval_loss/len(test_dataset)))"
   ]
  },
  {
   "cell_type": "code",
   "execution_count": 30,
   "metadata": {
    "colab": {
     "base_uri": "https://localhost:8080/",
     "height": 171
    },
    "id": "X7JdhAIDHbl3",
    "outputId": "0b89d0f7-6c31-40a1-aabb-896a5813334a"
   },
   "outputs": [
    {
     "ename": "IndexError",
     "evalue": "ignored",
     "output_type": "error",
     "traceback": [
      "\u001b[0;31m---------------------------------------------------------------------------\u001b[0m",
      "\u001b[0;31mIndexError\u001b[0m                                Traceback (most recent call last)",
      "\u001b[0;32m<ipython-input-30-c56447e1a711>\u001b[0m in \u001b[0;36m<module>\u001b[0;34m()\u001b[0m\n\u001b[0;32m----> 1\u001b[0;31m \u001b[0mpredictions\u001b[0m\u001b[0;34m[\u001b[0m\u001b[0mi\u001b[0m\u001b[0;34m-\u001b[0m\u001b[0;36m3\u001b[0m\u001b[0;34m]\u001b[0m\u001b[0;34m[\u001b[0m\u001b[0;34m\"boxes\"\u001b[0m\u001b[0;34m]\u001b[0m\u001b[0;34m\u001b[0m\u001b[0;34m\u001b[0m\u001b[0m\n\u001b[0m",
      "\u001b[0;31mIndexError\u001b[0m: list index out of range"
     ]
    }
   ],
   "source": [
    "predictions[i-3][\"boxes\"]"
   ]
  },
  {
   "cell_type": "code",
   "execution_count": 26,
   "metadata": {
    "colab": {
     "base_uri": "https://localhost:8080/"
    },
    "id": "2EZgCJDoHVpW",
    "outputId": "f4558a06-7ba8-4100-ae9e-3e1dda329298"
   },
   "outputs": [
    {
     "data": {
      "text/plain": [
       "[{'boxes': tensor([[208.1136, 195.7472, 303.5114, 288.2528]], device='cuda:0',\n",
       "         dtype=torch.float64), 'labels': tensor([1], device='cuda:0')},\n",
       " {'boxes': tensor([[224.4869, 206.1775, 293.0323, 284.0971]], device='cuda:0',\n",
       "         dtype=torch.float64), 'labels': tensor([1], device='cuda:0')}]"
      ]
     },
     "execution_count": 26,
     "metadata": {},
     "output_type": "execute_result"
    }
   ],
   "source": [
    "target"
   ]
  },
  {
   "cell_type": "code",
   "execution_count": 94,
   "metadata": {
    "colab": {
     "base_uri": "https://localhost:8080/",
     "height": 287
    },
    "id": "zRZIGzb6V9si",
    "outputId": "bb62a387-89a2-4c34-c572-a0147f10c96c"
   },
   "outputs": [
    {
     "name": "stderr",
     "output_type": "stream",
     "text": [
      "Clipping input data to the valid range for imshow with RGB data ([0..1] for floats or [0..255] for integers).\n"
     ]
    },
    {
     "data": {
      "image/png": "[encoded data removed]",
      "text/plain": [
       "<Figure size 432x288 with 1 Axes>"
      ]
     },
     "metadata": {
      "needs_background": "light"
     },
     "output_type": "display_data"
    }
   ],
   "source": [
    "import matplotlib.pyplot as plt\n",
    "img_ = np.transpose(np.copy(data[i].cpu()),(1,2,0))\n",
    "import cv2\n",
    "for i, bbox in enumerate(predictions[i][\"boxes\"]):\n",
    "    cv2.rectangle(img_, (int(bbox[0]), int(bbox[1])), (int(bbox[2]), int(bbox[3])), color=(0, 255, 0), thickness=3) \n",
    "plt.imshow(img_)\n",
    "plt.show()   "
   ]
  },
  {
   "cell_type": "code",
   "execution_count": 89,
   "metadata": {
    "colab": {
     "base_uri": "https://localhost:8080/",
     "height": 299
    },
    "id": "773mFK1AXIwv",
    "outputId": "1a649e59-75a6-4214-df4c-f78c1de71a16"
   },
   "outputs": [
    {
     "ename": "AttributeError",
     "evalue": "ignored",
     "output_type": "error",
     "traceback": [
      "\u001b[0;31m---------------------------------------------------------------------------\u001b[0m",
      "\u001b[0;31mAttributeError\u001b[0m                            Traceback (most recent call last)",
      "\u001b[0;32m<ipython-input-89-d7a0326eee5f>\u001b[0m in \u001b[0;36m<module>\u001b[0;34m()\u001b[0m\n\u001b[0;32m----> 1\u001b[0;31m \u001b[0mnp\u001b[0m\u001b[0;34m.\u001b[0m\u001b[0mpermute\u001b[0m\u001b[0;34m\u001b[0m\u001b[0;34m\u001b[0m\u001b[0m\n\u001b[0m",
      "\u001b[0;32m/usr/local/lib/python3.7/dist-packages/numpy/__init__.py\u001b[0m in \u001b[0;36m__getattr__\u001b[0;34m(attr)\u001b[0m\n\u001b[1;32m    312\u001b[0m \u001b[0;34m\u001b[0m\u001b[0m\n\u001b[1;32m    313\u001b[0m             raise AttributeError(\"module {!r} has no attribute \"\n\u001b[0;32m--> 314\u001b[0;31m                                  \"{!r}\".format(__name__, attr))\n\u001b[0m\u001b[1;32m    315\u001b[0m \u001b[0;34m\u001b[0m\u001b[0m\n\u001b[1;32m    316\u001b[0m         \u001b[0;32mdef\u001b[0m \u001b[0m__dir__\u001b[0m\u001b[0;34m(\u001b[0m\u001b[0;34m)\u001b[0m\u001b[0;34m:\u001b[0m\u001b[0;34m\u001b[0m\u001b[0;34m\u001b[0m\u001b[0m\n",
      "\u001b[0;31mAttributeError\u001b[0m: module 'numpy' has no attribute 'permute'"
     ]
    }
   ],
   "source": [
    "np.permute"
   ]
  },
  {
   "cell_type": "code",
   "execution_count": 85,
   "metadata": {
    "colab": {
     "base_uri": "https://localhost:8080/"
    },
    "id": "ldEaodwqSr6Q",
    "outputId": "1249f1cb-bce4-47e0-a4c8-0596a239e68d"
   },
   "outputs": [
    {
     "data": {
      "text/plain": [
       "(3, 512, 512)"
      ]
     },
     "execution_count": 85,
     "metadata": {},
     "output_type": "execute_result"
    }
   ],
   "source": [
    "img_.shape"
   ]
  },
  {
   "cell_type": "code",
   "execution_count": 25,
   "metadata": {
    "colab": {
     "base_uri": "https://localhost:8080/"
    },
    "id": "qKX_jIpwS2be",
    "outputId": "c755dafa-f579-43bc-c291-60f49bace31e"
   },
   "outputs": [
    {
     "data": {
      "text/plain": [
       "tensor([208.1136, 195.7472, 303.5114, 288.2528], device='cuda:0',\n",
       "       dtype=torch.float64)"
      ]
     },
     "execution_count": 25,
     "metadata": {},
     "output_type": "execute_result"
    }
   ],
   "source": [
    "bbox"
   ]
  },
  {
   "cell_type": "code",
   "execution_count": null,
   "metadata": {
    "id": "qCRWDoZ9TyRo"
   },
   "outputs": [],
   "source": []
  },
  {
   "cell_type": "code",
   "execution_count": 65,
   "metadata": {
    "id": "N5Rtks1fTyWf"
   },
   "outputs": [],
   "source": [
    " model.eval()\n",
    " for data,target in iter(test_dataset):\n",
    "          predictions = model(data)\n",
    "          break "
   ]
  },
  {
   "cell_type": "code",
   "execution_count": 66,
   "metadata": {
    "colab": {
     "base_uri": "https://localhost:8080/"
    },
    "id": "FGhD8G3xT0qH",
    "outputId": "90241a07-34c6-4ebb-cb7a-785ec9af86a9"
   },
   "outputs": [
    {
     "data": {
      "text/plain": [
       "tensor([[197.5441, 196.1072, 305.2000, 289.7547],\n",
       "        [  0.0000, 198.5228,  99.2335, 292.5556]], device='cuda:0',\n",
       "       grad_fn=<StackBackward0>)"
      ]
     },
     "execution_count": 66,
     "metadata": {},
     "output_type": "execute_result"
    }
   ],
   "source": [
    "   predictions[0][\"boxes\"]"
   ]
  },
  {
   "cell_type": "code",
   "execution_count": null,
   "metadata": {
    "id": "DrO3OPDfUHmA"
   },
   "outputs": [],
   "source": [
    "target"
   ]
  },
  {
   "cell_type": "code",
   "execution_count": 83,
   "metadata": {
    "colab": {
     "base_uri": "https://localhost:8080/",
     "height": 244
    },
    "id": "G0RHka6TVUvK",
    "outputId": "9af71fa7-421b-4536-eca1-a14010c14979"
   },
   "outputs": [
    {
     "ename": "TypeError",
     "evalue": "ignored",
     "output_type": "error",
     "traceback": [
      "\u001b[0;31m---------------------------------------------------------------------------\u001b[0m",
      "\u001b[0;31mTypeError\u001b[0m                                 Traceback (most recent call last)",
      "\u001b[0;32m<ipython-input-83-2ec621ae5222>\u001b[0m in \u001b[0;36m<module>\u001b[0;34m()\u001b[0m\n\u001b[1;32m      2\u001b[0m \u001b[0;32mimport\u001b[0m \u001b[0mcv2\u001b[0m\u001b[0;34m\u001b[0m\u001b[0;34m\u001b[0m\u001b[0m\n\u001b[1;32m      3\u001b[0m \u001b[0;32mfor\u001b[0m \u001b[0mi\u001b[0m\u001b[0;34m,\u001b[0m \u001b[0mbbox\u001b[0m \u001b[0;32min\u001b[0m \u001b[0menumerate\u001b[0m\u001b[0;34m(\u001b[0m \u001b[0mpredictions\u001b[0m\u001b[0;34m[\u001b[0m\u001b[0;36m0\u001b[0m\u001b[0;34m]\u001b[0m\u001b[0;34m[\u001b[0m\u001b[0;34m\"boxes\"\u001b[0m\u001b[0;34m]\u001b[0m\u001b[0;34m)\u001b[0m\u001b[0;34m:\u001b[0m\u001b[0;34m\u001b[0m\u001b[0;34m\u001b[0m\u001b[0m\n\u001b[0;32m----> 4\u001b[0;31m     \u001b[0mcv2\u001b[0m\u001b[0;34m.\u001b[0m\u001b[0mrectangle\u001b[0m\u001b[0;34m(\u001b[0m\u001b[0mimg_\u001b[0m\u001b[0;34m.\u001b[0m\u001b[0mcpu\u001b[0m\u001b[0;34m(\u001b[0m\u001b[0;34m)\u001b[0m\u001b[0;34m,\u001b[0m \u001b[0;34m(\u001b[0m\u001b[0mint\u001b[0m\u001b[0;34m(\u001b[0m\u001b[0mbbox\u001b[0m\u001b[0;34m[\u001b[0m\u001b[0;36m0\u001b[0m\u001b[0;34m]\u001b[0m\u001b[0;34m)\u001b[0m\u001b[0;34m,\u001b[0m \u001b[0mint\u001b[0m\u001b[0;34m(\u001b[0m\u001b[0mbbox\u001b[0m\u001b[0;34m[\u001b[0m\u001b[0;36m1\u001b[0m\u001b[0;34m]\u001b[0m\u001b[0;34m)\u001b[0m\u001b[0;34m)\u001b[0m\u001b[0;34m,\u001b[0m \u001b[0;34m(\u001b[0m\u001b[0mint\u001b[0m\u001b[0;34m(\u001b[0m\u001b[0mbbox\u001b[0m\u001b[0;34m[\u001b[0m\u001b[0;36m2\u001b[0m\u001b[0;34m]\u001b[0m\u001b[0;34m)\u001b[0m\u001b[0;34m,\u001b[0m \u001b[0mint\u001b[0m\u001b[0;34m(\u001b[0m\u001b[0mbbox\u001b[0m\u001b[0;34m[\u001b[0m\u001b[0;36m3\u001b[0m\u001b[0;34m]\u001b[0m\u001b[0;34m)\u001b[0m\u001b[0;34m)\u001b[0m\u001b[0;34m,\u001b[0m \u001b[0mcolor\u001b[0m\u001b[0;34m=\u001b[0m\u001b[0;34m(\u001b[0m\u001b[0;36m0\u001b[0m\u001b[0;34m,\u001b[0m \u001b[0;36m255\u001b[0m\u001b[0;34m,\u001b[0m \u001b[0;36m0\u001b[0m\u001b[0;34m)\u001b[0m\u001b[0;34m,\u001b[0m \u001b[0mthickness\u001b[0m\u001b[0;34m=\u001b[0m\u001b[0;36m3\u001b[0m\u001b[0;34m)\u001b[0m\u001b[0;34m\u001b[0m\u001b[0;34m\u001b[0m\u001b[0m\n\u001b[0m\u001b[1;32m      5\u001b[0m \u001b[0mplt\u001b[0m\u001b[0;34m.\u001b[0m\u001b[0mimshow\u001b[0m\u001b[0;34m(\u001b[0m\u001b[0mimg_\u001b[0m\u001b[0;34m)\u001b[0m\u001b[0;34m\u001b[0m\u001b[0;34m\u001b[0m\u001b[0m\n\u001b[1;32m      6\u001b[0m \u001b[0mplt\u001b[0m\u001b[0;34m.\u001b[0m\u001b[0mshow\u001b[0m\u001b[0;34m(\u001b[0m\u001b[0;34m)\u001b[0m\u001b[0;34m\u001b[0m\u001b[0;34m\u001b[0m\u001b[0m\n",
      "\u001b[0;31mTypeError\u001b[0m: argument for rectangle() given by name ('color') and position (3)"
     ]
    }
   ],
   "source": [
    "img_ = data[0]\n",
    "import cv2\n",
    "for i, bbox in enumerate( predictions[0][\"boxes\"]):\n",
    "    cv2.rectangle(img_.cpu(), (int(bbox[0]), int(bbox[1])), (int(bbox[2]), int(bbox[3])), color=(0, 255, 0), thickness=3) \n",
    "plt.imshow(img_)\n",
    "plt.show()   "
   ]
  },
  {
   "cell_type": "code",
   "execution_count": 79,
   "metadata": {
    "colab": {
     "base_uri": "https://localhost:8080/"
    },
    "id": "inK98C-MWBYI",
    "outputId": "8e8b986e-c379-4106-d40c-24cb69081f19"
   },
   "outputs": [
    {
     "data": {
      "text/plain": [
       "tensor(305.2000, device='cuda:0', grad_fn=<SelectBackward0>)"
      ]
     },
     "execution_count": 79,
     "metadata": {},
     "output_type": "execute_result"
    }
   ],
   "source": [
    "bbox[2]"
   ]
  },
  {
   "cell_type": "code",
   "execution_count": 71,
   "metadata": {
    "colab": {
     "base_uri": "https://localhost:8080/"
    },
    "id": "gxuJfzKfVzQa",
    "outputId": "3cffe598-2f46-4b06-9869-950b5d38469c"
   },
   "outputs": [
    {
     "data": {
      "text/plain": [
       "tensor([197.5441, 196.1072, 305.2000, 289.7547], device='cuda:0',\n",
       "       grad_fn=<SelectBackward0>)"
      ]
     },
     "execution_count": 71,
     "metadata": {},
     "output_type": "execute_result"
    }
   ],
   "source": [
    "predictions[0][\"boxes\"][0]"
   ]
  },
  {
   "cell_type": "code",
   "execution_count": 74,
   "metadata": {
    "colab": {
     "base_uri": "https://localhost:8080/"
    },
    "id": "-TgJ0aKrV4Mw",
    "outputId": "1c73effe-b03d-42ee-a0a3-dc3e6aa40099"
   },
   "outputs": [
    {
     "data": {
      "text/plain": [
       "tensor([197.5441, 196.1072, 305.2000, 289.7547], device='cuda:0',\n",
       "       grad_fn=<UnbindBackward0>)"
      ]
     },
     "execution_count": 74,
     "metadata": {},
     "output_type": "execute_result"
    }
   ],
   "source": [
    "bbox"
   ]
  }
 ],
 "metadata": {
  "accelerator": "GPU",
  "colab": {
   "collapsed_sections": [],
   "machine_shape": "hm",
   "name": "Assignment Two.ipynb",
   "provenance": []
  },
  "kernelspec": {
   "display_name": "Python 3",
   "language": "python",
   "name": "python3"
  },
  "language_info": {
   "codemirror_mode": {
    "name": "ipython",
    "version": 3
   },
   "file_extension": ".py",
   "mimetype": "text/x-python",
   "name": "python",
   "nbconvert_exporter": "python",
   "pygments_lexer": "ipython3",
   "version": "3.7.10"
  },
  "widgets": {
   "application/vnd.jupyter.widget-state+json": {
    "0947082bd32746cfb9c66378e577a00c": {
     "model_module": "@jupyter-widgets/controls",
     "model_module_version": "1.5.0",
     "model_name": "HTMLModel",
     "state": {
      "_dom_classes": [],
      "_model_module": "@jupyter-widgets/controls",
      "_model_module_version": "1.5.0",
      "_model_name": "HTMLModel",
      "_view_count": null,
      "_view_module": "@jupyter-widgets/controls",
      "_view_module_version": "1.5.0",
      "_view_name": "HTMLView",
      "description": "",
      "description_tooltip": null,
      "layout": "IPY_MODEL_6ee404ceea4d4772a2f3144c82ef5f87",
      "placeholder": "​",
      "style": "IPY_MODEL_b03a3590f1294f32b1f120b6cb0643f5",
      "value": " 21.1M/21.1M [00:00&lt;00:00, 77.9MB/s]"
     }
    },
    "2091733103ff428d9d2aeca98c545dea": {
     "model_module": "@jupyter-widgets/base",
     "model_module_version": "1.2.0",
     "model_name": "LayoutModel",
     "state": {
      "_model_module": "@jupyter-widgets/base",
      "_model_module_version": "1.2.0",
      "_model_name": "LayoutModel",
      "_view_count": null,
      "_view_module": "@jupyter-widgets/base",
      "_view_module_version": "1.2.0",
      "_view_name": "LayoutView",
      "align_content": null,
      "align_items": null,
      "align_self": null,
      "border": null,
      "bottom": null,
      "display": null,
      "flex": null,
      "flex_flow": null,
      "grid_area": null,
      "grid_auto_columns": null,
      "grid_auto_flow": null,
      "grid_auto_rows": null,
      "grid_column": null,
      "grid_gap": null,
      "grid_row": null,
      "grid_template_areas": null,
      "grid_template_columns": null,
      "grid_template_rows": null,
      "height": null,
      "justify_content": null,
      "justify_items": null,
      "left": null,
      "margin": null,
      "max_height": null,
      "max_width": null,
      "min_height": null,
      "min_width": null,
      "object_fit": null,
      "object_position": null,
      "order": null,
      "overflow": null,
      "overflow_x": null,
      "overflow_y": null,
      "padding": null,
      "right": null,
      "top": null,
      "visibility": null,
      "width": null
     }
    },
    "35dd5c309c5b4b6ab6391db7ef75ee43": {
     "model_module": "@jupyter-widgets/base",
     "model_module_version": "1.2.0",
     "model_name": "LayoutModel",
     "state": {
      "_model_module": "@jupyter-widgets/base",
      "_model_module_version": "1.2.0",
      "_model_name": "LayoutModel",
      "_view_count": null,
      "_view_module": "@jupyter-widgets/base",
      "_view_module_version": "1.2.0",
      "_view_name": "LayoutView",
      "align_content": null,
      "align_items": null,
      "align_self": null,
      "border": null,
      "bottom": null,
      "display": null,
      "flex": null,
      "flex_flow": null,
      "grid_area": null,
      "grid_auto_columns": null,
      "grid_auto_flow": null,
      "grid_auto_rows": null,
      "grid_column": null,
      "grid_gap": null,
      "grid_row": null,
      "grid_template_areas": null,
      "grid_template_columns": null,
      "grid_template_rows": null,
      "height": null,
      "justify_content": null,
      "justify_items": null,
      "left": null,
      "margin": null,
      "max_height": null,
      "max_width": null,
      "min_height": null,
      "min_width": null,
      "object_fit": null,
      "object_position": null,
      "order": null,
      "overflow": null,
      "overflow_x": null,
      "overflow_y": null,
      "padding": null,
      "right": null,
      "top": null,
      "visibility": null,
      "width": null
     }
    },
    "37cd3c32a3874fe2815b2426111d155e": {
     "model_module": "@jupyter-widgets/controls",
     "model_module_version": "1.5.0",
     "model_name": "DescriptionStyleModel",
     "state": {
      "_model_module": "@jupyter-widgets/controls",
      "_model_module_version": "1.5.0",
      "_model_name": "DescriptionStyleModel",
      "_view_count": null,
      "_view_module": "@jupyter-widgets/base",
      "_view_module_version": "1.2.0",
      "_view_name": "StyleView",
      "description_width": ""
     }
    },
    "55955b0b0aa64773868512e5190c83e9": {
     "model_module": "@jupyter-widgets/controls",
     "model_module_version": "1.5.0",
     "model_name": "FloatProgressModel",
     "state": {
      "_dom_classes": [],
      "_model_module": "@jupyter-widgets/controls",
      "_model_module_version": "1.5.0",
      "_model_name": "FloatProgressModel",
      "_view_count": null,
      "_view_module": "@jupyter-widgets/controls",
      "_view_module_version": "1.5.0",
      "_view_name": "ProgressView",
      "bar_style": "success",
      "description": "",
      "description_tooltip": null,
      "layout": "IPY_MODEL_35dd5c309c5b4b6ab6391db7ef75ee43",
      "max": 22139423,
      "min": 0,
      "orientation": "horizontal",
      "style": "IPY_MODEL_6269d8cb1b5a4f52ba62a7a566591dbe",
      "value": 22139423
     }
    },
    "6269d8cb1b5a4f52ba62a7a566591dbe": {
     "model_module": "@jupyter-widgets/controls",
     "model_module_version": "1.5.0",
     "model_name": "ProgressStyleModel",
     "state": {
      "_model_module": "@jupyter-widgets/controls",
      "_model_module_version": "1.5.0",
      "_model_name": "ProgressStyleModel",
      "_view_count": null,
      "_view_module": "@jupyter-widgets/base",
      "_view_module_version": "1.2.0",
      "_view_name": "StyleView",
      "bar_color": null,
      "description_width": ""
     }
    },
    "6ee404ceea4d4772a2f3144c82ef5f87": {
     "model_module": "@jupyter-widgets/base",
     "model_module_version": "1.2.0",
     "model_name": "LayoutModel",
     "state": {
      "_model_module": "@jupyter-widgets/base",
      "_model_module_version": "1.2.0",
      "_model_name": "LayoutModel",
      "_view_count": null,
      "_view_module": "@jupyter-widgets/base",
      "_view_module_version": "1.2.0",
      "_view_name": "LayoutView",
      "align_content": null,
      "align_items": null,
      "align_self": null,
      "border": null,
      "bottom": null,
      "display": null,
      "flex": null,
      "flex_flow": null,
      "grid_area": null,
      "grid_auto_columns": null,
      "grid_auto_flow": null,
      "grid_auto_rows": null,
      "grid_column": null,
      "grid_gap": null,
      "grid_row": null,
      "grid_template_areas": null,
      "grid_template_columns": null,
      "grid_template_rows": null,
      "height": null,
      "justify_content": null,
      "justify_items": null,
      "left": null,
      "margin": null,
      "max_height": null,
      "max_width": null,
      "min_height": null,
      "min_width": null,
      "object_fit": null,
      "object_position": null,
      "order": null,
      "overflow": null,
      "overflow_x": null,
      "overflow_y": null,
      "padding": null,
      "right": null,
      "top": null,
      "visibility": null,
      "width": null
     }
    },
    "b03a3590f1294f32b1f120b6cb0643f5": {
     "model_module": "@jupyter-widgets/controls",
     "model_module_version": "1.5.0",
     "model_name": "DescriptionStyleModel",
     "state": {
      "_model_module": "@jupyter-widgets/controls",
      "_model_module_version": "1.5.0",
      "_model_name": "DescriptionStyleModel",
      "_view_count": null,
      "_view_module": "@jupyter-widgets/base",
      "_view_module_version": "1.2.0",
      "_view_name": "StyleView",
      "description_width": ""
     }
    },
    "bbde3b9eaaeb4e7cb93bc49a91c29577": {
     "model_module": "@jupyter-widgets/base",
     "model_module_version": "1.2.0",
     "model_name": "LayoutModel",
     "state": {
      "_model_module": "@jupyter-widgets/base",
      "_model_module_version": "1.2.0",
      "_model_name": "LayoutModel",
      "_view_count": null,
      "_view_module": "@jupyter-widgets/base",
      "_view_module_version": "1.2.0",
      "_view_name": "LayoutView",
      "align_content": null,
      "align_items": null,
      "align_self": null,
      "border": null,
      "bottom": null,
      "display": null,
      "flex": null,
      "flex_flow": null,
      "grid_area": null,
      "grid_auto_columns": null,
      "grid_auto_flow": null,
      "grid_auto_rows": null,
      "grid_column": null,
      "grid_gap": null,
      "grid_row": null,
      "grid_template_areas": null,
      "grid_template_columns": null,
      "grid_template_rows": null,
      "height": null,
      "justify_content": null,
      "justify_items": null,
      "left": null,
      "margin": null,
      "max_height": null,
      "max_width": null,
      "min_height": null,
      "min_width": null,
      "object_fit": null,
      "object_position": null,
      "order": null,
      "overflow": null,
      "overflow_x": null,
      "overflow_y": null,
      "padding": null,
      "right": null,
      "top": null,
      "visibility": null,
      "width": null
     }
    },
    "da31074c285f4bac9f14642c89f09324": {
     "model_module": "@jupyter-widgets/controls",
     "model_module_version": "1.5.0",
     "model_name": "HBoxModel",
     "state": {
      "_dom_classes": [],
      "_model_module": "@jupyter-widgets/controls",
      "_model_module_version": "1.5.0",
      "_model_name": "HBoxModel",
      "_view_count": null,
      "_view_module": "@jupyter-widgets/controls",
      "_view_module_version": "1.5.0",
      "_view_name": "HBoxView",
      "box_style": "",
      "children": [
       "IPY_MODEL_e5f64a28ede845bbbb22dfd0137a8b38",
       "IPY_MODEL_55955b0b0aa64773868512e5190c83e9",
       "IPY_MODEL_0947082bd32746cfb9c66378e577a00c"
      ],
      "layout": "IPY_MODEL_2091733103ff428d9d2aeca98c545dea"
     }
    },
    "e5f64a28ede845bbbb22dfd0137a8b38": {
     "model_module": "@jupyter-widgets/controls",
     "model_module_version": "1.5.0",
     "model_name": "HTMLModel",
     "state": {
      "_dom_classes": [],
      "_model_module": "@jupyter-widgets/controls",
      "_model_module_version": "1.5.0",
      "_model_name": "HTMLModel",
      "_view_count": null,
      "_view_module": "@jupyter-widgets/controls",
      "_view_module_version": "1.5.0",
      "_view_name": "HTMLView",
      "description": "",
      "description_tooltip": null,
      "layout": "IPY_MODEL_bbde3b9eaaeb4e7cb93bc49a91c29577",
      "placeholder": "​",
      "style": "IPY_MODEL_37cd3c32a3874fe2815b2426111d155e",
      "value": "100%"
     }
    }
   }
  }
 },
 "nbformat": 4,
 "nbformat_minor": 1
}
